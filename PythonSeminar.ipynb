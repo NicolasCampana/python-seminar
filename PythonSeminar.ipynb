{
  "nbformat": 4,
  "nbformat_minor": 0,
  "metadata": {
    "colab": {
      "name": "PythonSeminar.ipynb",
      "provenance": [],
      "collapsed_sections": [],
      "toc_visible": true,
      "include_colab_link": true
    },
    "kernelspec": {
      "name": "python3",
      "display_name": "Python 3"
    }
  },
  "cells": [
    {
      "cell_type": "markdown",
      "metadata": {
        "id": "view-in-github",
        "colab_type": "text"
      },
      "source": [
        "<a href=\"https://colab.research.google.com/github/NicolasCampana/python-seminar/blob/master/PythonSeminar.ipynb\" target=\"_parent\"><img src=\"https://colab.research.google.com/assets/colab-badge.svg\" alt=\"Open In Colab\"/></a>"
      ]
    },
    {
      "cell_type": "markdown",
      "metadata": {
        "id": "xWvzOwbxjwwX",
        "colab_type": "text"
      },
      "source": [
        "\n",
        "# Welcome to this Notebook!\n",
        "# This notebook was created to support a python seminar in 2020.\n",
        "\n",
        "\n"
      ]
    },
    {
      "cell_type": "markdown",
      "metadata": {
        "id": "4C7I-SbyBzUq",
        "colab_type": "text"
      },
      "source": [
        "# Parte I - Web Scraping\n"
      ]
    },
    {
      "cell_type": "code",
      "metadata": {
        "id": "z1eQIyhuByJF",
        "colab_type": "code",
        "colab": {}
      },
      "source": [
        "class Client(object):\n",
        "  def __init__(self, name:str = \"\", time:int = 0, frequency:str = 0):\n",
        "    self.client_name = name\n",
        "    self.time_to_clean = int(time)\n",
        "    self.frequency = frequency\n",
        "\n",
        "  def __str__(self):\n",
        "    return f\"Client: {self.client_name}. Time to Clean: {self.time_to_clean}. Week Frequency: {self.frequency}\""
      ],
      "execution_count": 0,
      "outputs": []
    },
    {
      "cell_type": "code",
      "metadata": {
        "id": "HQOrIn7IG51U",
        "colab_type": "code",
        "colab": {}
      },
      "source": [
        "import requests\n",
        "from bs4 import BeautifulSoup\n",
        "\n",
        "class WebScraping(object):\n",
        "  def __init__(self, url):\n",
        "    self.url = url\n",
        "\n",
        "  def request(self):\n",
        "    return requests.get(self.url)\n",
        "\n",
        "  def execute(self):\n",
        "    clients = {}\n",
        "    clients_class = []\n",
        "    response = self.request()\n",
        "    \n",
        "    if(response.status_code != 404):\n",
        "      soup = BeautifulSoup(response.text, \"html.parser\")\n",
        "      table = soup.find(\"table\")\n",
        "      rows = table.find_all('tr')\n",
        "      for idx, row in enumerate(rows[1:]):\n",
        "        client_raw = row.find_all('td')\n",
        "        client_data = [e.text for e in client_raw]\n",
        "        result = \" - \".join(client_data)\n",
        "        print(f\"Client {idx}: {result}\")\n",
        "        clients[idx] = client_data\n",
        "        clients_class.append(Client(*list(client_data)))\n",
        "    return clients_class\n"
      ],
      "execution_count": 0,
      "outputs": []
    },
    {
      "cell_type": "code",
      "metadata": {
        "id": "6UNwNruTBtfb",
        "colab_type": "code",
        "outputId": "e324caaa-d4b8-4e79-f53d-a35b9fb43b85",
        "colab": {
          "base_uri": "https://localhost:8080/",
          "height": 712
        }
      },
      "source": [
        "import requests\n",
        "from bs4 import BeautifulSoup\n",
        "\n",
        "url = \"https://nicolascampana.github.io/python-seminar/\"\n",
        "wb = WebScraping(url)\n",
        "\n",
        "clients = wb.execute()\n",
        "\n",
        "for c in clients:\n",
        "  print(c)"
      ],
      "execution_count": 6,
      "outputs": [
        {
          "output_type": "stream",
          "text": [
            "Client 0: Ristorante CruftMan - 20 - 4\n",
            "Client 1: Trattoria Motocicleta - 25 - 2\n",
            "Client 2: Trattoria Durani - 50 - 7\n",
            "Client 3: ToopService - 100 - 3\n",
            "Client 4: Essecorta - 75 - 7\n",
            "Client 5: Tutella - 25 - 5\n",
            "Client 6: Kebab I - 15 - 7\n",
            "Client 7: Kebab II - 35 - 7\n",
            "Client 8: Pizzeria L'angolo di Sardegna - 45 - 3\n",
            "Client 9: Dipartimento di Ingegneria - UNIMORE - 150 - 3\n",
            "Client 10: Ottica Vede Bene - 70 - W\n",
            "Client 11: LIDT - 60 - 5\n",
            "Client 12: Pizzeria PiediGrots V - 15 - 2\n",
            "Client 13: Cremeria di Gelatti Buoni - 20 - 6\n",
            "Client 14: Uffici Via Sani - 200 - 1\n",
            "Client 15: Banca UniDebit - 37 - 7\n",
            "Client 16: Banca Specifico - 60 - 4\n",
            "Client 17: MacDenalds - 45 - 6\n",
            "Client 18: BurgerQueen - 35 - 6\n",
            "Client 19: Hotel Tosta - 70 - S\n",
            "Client: Ristorante CruftMan. Time to Clean: 20. Week Frequency: 4\n",
            "Client: Trattoria Motocicleta. Time to Clean: 25. Week Frequency: 2\n",
            "Client: Trattoria Durani. Time to Clean: 50. Week Frequency: 7\n",
            "Client: ToopService. Time to Clean: 100. Week Frequency: 3\n",
            "Client: Essecorta. Time to Clean: 75. Week Frequency: 7\n",
            "Client: Tutella. Time to Clean: 25. Week Frequency: 5\n",
            "Client: Kebab I. Time to Clean: 15. Week Frequency: 7\n",
            "Client: Kebab II. Time to Clean: 35. Week Frequency: 7\n",
            "Client: Pizzeria L'angolo di Sardegna. Time to Clean: 45. Week Frequency: 3\n",
            "Client: Dipartimento di Ingegneria - UNIMORE. Time to Clean: 150. Week Frequency: 3\n",
            "Client: Ottica Vede Bene. Time to Clean: 70. Week Frequency: W\n",
            "Client: LIDT. Time to Clean: 60. Week Frequency: 5\n",
            "Client: Pizzeria PiediGrots V. Time to Clean: 15. Week Frequency: 2\n",
            "Client: Cremeria di Gelatti Buoni. Time to Clean: 20. Week Frequency: 6\n",
            "Client: Uffici Via Sani. Time to Clean: 200. Week Frequency: 1\n",
            "Client: Banca UniDebit. Time to Clean: 37. Week Frequency: 7\n",
            "Client: Banca Specifico. Time to Clean: 60. Week Frequency: 4\n",
            "Client: MacDenalds. Time to Clean: 45. Week Frequency: 6\n",
            "Client: BurgerQueen. Time to Clean: 35. Week Frequency: 6\n",
            "Client: Hotel Tosta. Time to Clean: 70. Week Frequency: S\n"
          ],
          "name": "stdout"
        }
      ]
    },
    {
      "cell_type": "markdown",
      "metadata": {
        "id": "GYhrL6HTC2ys",
        "colab_type": "text"
      },
      "source": [
        "# Parte II - File Excel\n"
      ]
    },
    {
      "cell_type": "code",
      "metadata": {
        "id": "R2MmtNl4ERk0",
        "colab_type": "code",
        "colab": {}
      },
      "source": [
        "import pandas as pd\n",
        "import numpy as np\n",
        "\n",
        "def read_patterns(file:str):\n",
        "  file = pd.read_excel(file)\n",
        "  matrix = file.to_numpy()\n",
        "  Q = {str(i):{} for i in file[\"Frequency\"]}\n",
        "  for pattern in matrix:\n",
        "    frequency = str(pattern[0])\n",
        "    type = pattern[1]\n",
        "    Q[frequency][type] = list(pattern[2:])\n",
        "  \n",
        "  return Q\n"
      ],
      "execution_count": 0,
      "outputs": []
    },
    {
      "cell_type": "code",
      "metadata": {
        "id": "8TgD1lNOC4nc",
        "colab_type": "code",
        "outputId": "1e582078-53f6-418d-ebee-392ac3d53608",
        "colab": {
          "base_uri": "https://localhost:8080/",
          "height": 816
        }
      },
      "source": [
        "import pprint\n",
        "\n",
        "\n",
        "pprint.pprint(read_patterns(\"patterns.xlsx\"))"
      ],
      "execution_count": 19,
      "outputs": [
        {
          "output_type": "stream",
          "text": [
            "1\n",
            "{'1': {1: [1, 0, 0, 0, 0, 0, 0],\n",
            "       2: [0, 1, 0, 0, 0, 0, 0],\n",
            "       3: [0, 0, 1, 0, 0, 0, 0],\n",
            "       4: [0, 0, 0, 1, 0, 0, 0],\n",
            "       5: [0, 0, 0, 0, 1, 0, 0],\n",
            "       6: [0, 0, 0, 0, 0, 1, 0],\n",
            "       7: [0, 0, 0, 0, 0, 0, 1]},\n",
            " '2': {8: [1, 0, 0, 1, 0, 0, 0],\n",
            "       9: [1, 0, 0, 0, 0, 1, 0],\n",
            "       10: [1, 0, 0, 0, 0, 0, 1],\n",
            "       11: [0, 1, 0, 0, 0, 0, 1],\n",
            "       12: [0, 1, 0, 0, 0, 1, 0],\n",
            "       13: [0, 0, 1, 0, 0, 0, 1],\n",
            "       14: [0, 0, 0, 1, 0, 0, 1]},\n",
            " '3': {15: [1, 0, 0, 1, 0, 0, 1],\n",
            "       16: [1, 0, 1, 0, 0, 0, 1],\n",
            "       17: [1, 0, 1, 0, 0, 1, 0],\n",
            "       18: [1, 0, 0, 1, 0, 1, 0],\n",
            "       19: [0, 1, 0, 1, 0, 1, 0],\n",
            "       20: [0, 1, 0, 1, 0, 0, 1],\n",
            "       21: [0, 1, 0, 0, 1, 0, 1]},\n",
            " '4': {22: [1, 0, 1, 0, 1, 0, 1],\n",
            "       23: [1, 0, 1, 0, 1, 1, 0],\n",
            "       24: [1, 0, 0, 1, 0, 1, 1],\n",
            "       25: [0, 1, 0, 1, 0, 1, 1],\n",
            "       26: [1, 0, 1, 1, 0, 0, 1],\n",
            "       27: [1, 0, 0, 1, 1, 0, 1],\n",
            "       28: [1, 1, 0, 0, 1, 0, 1]},\n",
            " '5': {29: [1, 1, 1, 0, 1, 0, 1],\n",
            "       30: [1, 0, 1, 1, 1, 1, 0],\n",
            "       31: [1, 1, 0, 1, 0, 1, 1],\n",
            "       32: [1, 1, 0, 1, 0, 1, 1],\n",
            "       33: [1, 0, 1, 1, 0, 1, 1],\n",
            "       34: [1, 1, 0, 1, 1, 0, 1],\n",
            "       35: [1, 1, 0, 1, 0, 1, 1]},\n",
            " '6': {36: [0, 1, 1, 1, 1, 1, 1],\n",
            "       37: [1, 0, 1, 1, 1, 1, 1],\n",
            "       38: [1, 1, 0, 1, 1, 1, 1],\n",
            "       39: [1, 1, 1, 0, 1, 1, 1],\n",
            "       40: [1, 1, 1, 1, 0, 1, 1],\n",
            "       41: [1, 1, 1, 1, 1, 0, 1],\n",
            "       42: [1, 1, 1, 1, 1, 1, 0]},\n",
            " '7': {43: [1, 1, 1, 1, 1, 1, 1]},\n",
            " 'S': {45: [1, 1, 1, 1, 1, 0, 0]},\n",
            " 'W': {44: [0, 0, 0, 0, 0, 1, 1]}}\n"
          ],
          "name": "stdout"
        }
      ]
    },
    {
      "cell_type": "markdown",
      "metadata": {
        "id": "u6oqMli6F-Y6",
        "colab_type": "text"
      },
      "source": [
        "# Parte III - Assignment Model\n"
      ]
    },
    {
      "cell_type": "code",
      "metadata": {
        "id": "kxi-xVxQF-B4",
        "colab_type": "code",
        "outputId": "13509d39-94e3-4803-c868-548180dfd54e",
        "colab": {
          "base_uri": "https://localhost:8080/",
          "height": 52
        }
      },
      "source": [
        "!pip install pulp\n",
        "\n",
        "import pickle as pk\n",
        "from pulp import *\n",
        "\n",
        "class SolverAssignment:    \n",
        "    def __init__(self, clients:list):\n",
        "        self.clients = clients\n",
        "        self.D = list(range(0,7))\n",
        "        print(\"Starting the assignment for the clients: \")\n",
        "        for c in self.clients:\n",
        "          print(c)\n",
        "    \n",
        "    def get_client_patterns(self, patterns: dict):\n",
        "        client_patterns = {}        \n",
        "        for _, i in patterns.items():\n",
        "            for idx, pat in i.items():\n",
        "                client_patterns[idx] = pat \n",
        "        return client_patterns\n",
        "\n",
        "    def solve_model(self, patterns:dict) -> dict:\n",
        "        #Assignment Model - Pulp #\n",
        "        client_patterns = self.get_client_patterns(patterns)\n",
        "        model = LpProblem(\"Assignment Problem - Pulizia\", LpMinimize)\n",
        "        x = LpVariable.dicts(\"X\", [(c, p) for c in self.clients \n",
        "                                          for p in client_patterns], \n",
        "                             0, None, LpBinary)\n",
        "        z = LpVariable(\"Z\", 0, None, LpInteger)\n",
        "        beta = [0, 0,  0, 0, 0, 120, 120]\n",
        "        model += z, \"Minimize Total balance\"\n",
        "        \n",
        "        for c in self.clients:\n",
        "          model += lpSum([x[(c,p)] for p in patterns[c.frequency].keys()]) == 1\n",
        "        \n",
        "        for d in self.D:\n",
        "          model += beta[d] + lpSum([lpSum([client_patterns[p][d] * x[(c,p)] * c.time_to_clean for c in self.clients]) for p in client_patterns.keys()]) <= z\n",
        "\n",
        "        model.solve()\n",
        "\n",
        "        total = [0] * len(self.D)\n",
        "        daily_demand = {i: [] for i in self.D}\n",
        "        assigned = {}\n",
        "        patterns_choosed = [0] * (len(client_patterns)+1)\n",
        "        for c in self.clients:\n",
        "            for p in client_patterns:\n",
        "                if(x[(c,p)].value() > 0.6):\n",
        "                    assigned[c] = client_patterns[p]\n",
        "                    patterns_choosed[p] += 1\n",
        "                    for d, value in enumerate(patterns[c.frequency][p]):\n",
        "                        if(value == 1):\n",
        "                            daily_demand[d].append(pk.loads(pk.dumps(c)))\n",
        "                            total[d] += c.time_to_clean\n",
        "        return daily_demand, total, assigned, patterns_choosed\n"
      ],
      "execution_count": 21,
      "outputs": [
        {
          "output_type": "stream",
          "text": [
            "Requirement already satisfied: pulp in /usr/local/lib/python3.6/dist-packages (2.1)\n",
            "Requirement already satisfied: pyparsing>=2.0.1 in /usr/local/lib/python3.6/dist-packages (from pulp) (2.4.7)\n"
          ],
          "name": "stdout"
        }
      ]
    },
    {
      "cell_type": "code",
      "metadata": {
        "id": "8bU0sgKtGDJJ",
        "colab_type": "code",
        "outputId": "8d5d77fc-083c-437a-fb60-454e415f0256",
        "colab": {
          "base_uri": "https://localhost:8080/",
          "height": 434
        }
      },
      "source": [
        "output_file = \"OutputClients.xlsx\"\n",
        "patterns_raw = read_patterns(\"patterns.xlsx\")\n",
        "#print(patterns)\n",
        "#clients_class\n",
        "\n",
        "t = SolverAssignment(clients)\n",
        "daily, total, assigned, patterns = t.solve_model(patterns_raw)\n",
        "#print(patterns)\n",
        "#pprint.pprint(patterns)"
      ],
      "execution_count": 22,
      "outputs": [
        {
          "output_type": "stream",
          "text": [
            "1\n",
            "Starting the assignment for the clients: \n",
            "Client: Ristorante CruftMan. Time to Clean: 20. Week Frequency: 4\n",
            "Client: Trattoria Motocicleta. Time to Clean: 25. Week Frequency: 2\n",
            "Client: Trattoria Durani. Time to Clean: 50. Week Frequency: 7\n",
            "Client: ToopService. Time to Clean: 100. Week Frequency: 3\n",
            "Client: Essecorta. Time to Clean: 75. Week Frequency: 7\n",
            "Client: Tutella. Time to Clean: 25. Week Frequency: 5\n",
            "Client: Kebab I. Time to Clean: 15. Week Frequency: 7\n",
            "Client: Kebab II. Time to Clean: 35. Week Frequency: 7\n",
            "Client: Pizzeria L'angolo di Sardegna. Time to Clean: 45. Week Frequency: 3\n",
            "Client: Dipartimento di Ingegneria - UNIMORE. Time to Clean: 150. Week Frequency: 3\n",
            "Client: Ottica Vede Bene. Time to Clean: 70. Week Frequency: W\n",
            "Client: LIDT. Time to Clean: 60. Week Frequency: 5\n",
            "Client: Pizzeria PiediGrots V. Time to Clean: 15. Week Frequency: 2\n",
            "Client: Cremeria di Gelatti Buoni. Time to Clean: 20. Week Frequency: 6\n",
            "Client: Uffici Via Sani. Time to Clean: 200. Week Frequency: 1\n",
            "Client: Banca UniDebit. Time to Clean: 37. Week Frequency: 7\n",
            "Client: Banca Specifico. Time to Clean: 60. Week Frequency: 4\n",
            "Client: MacDenalds. Time to Clean: 45. Week Frequency: 6\n",
            "Client: BurgerQueen. Time to Clean: 35. Week Frequency: 6\n",
            "Client: Hotel Tosta. Time to Clean: 70. Week Frequency: S\n"
          ],
          "name": "stdout"
        },
        {
          "output_type": "stream",
          "text": [
            "/usr/local/lib/python3.6/dist-packages/pulp/pulp.py:1114: UserWarning: Spaces are not permitted in the name. Converted to '_'\n",
            "  warnings.warn(\"Spaces are not permitted in the name. Converted to '_'\")\n"
          ],
          "name": "stderr"
        }
      ]
    },
    {
      "cell_type": "markdown",
      "metadata": {
        "id": "aJMCabm-Ul76",
        "colab_type": "text"
      },
      "source": [
        "# Parte IV - Ouput"
      ]
    },
    {
      "cell_type": "code",
      "metadata": {
        "id": "iQVwNhGCMfsN",
        "colab_type": "code",
        "colab": {}
      },
      "source": [
        "import openpyxl as pyxl\n",
        "\n",
        "class OutputResultsAssignment:\n",
        "  def output_excel(self, daily_assignment:dict, assigned:dict, total:list, filename_assignment:str):\n",
        "        print(\"Output - Excel\")\n",
        "        wb = pyxl.Workbook()\n",
        "        ws1 = wb.active\n",
        "        ws1.title = \"Week Distributon\"\n",
        "        ws1.append([\"Days\"] + [v for v in total])\n",
        "        ws1.append([\"Room\", \"Lunedi\", \"Martedi\", \"Mercoledi\", \"Giovedi\", \"Venerdi\", \"Sabato\", \"Domenica\"])\n",
        "        \n",
        "        j = 3\n",
        "        for i, k in assigned.items(): \n",
        "            ws1.cell(j, 1, f\"{i.client_name}\")\n",
        "            for idx, day in enumerate(k):\n",
        "                ws1.cell(j, idx+2, day)\n",
        "            j += 1 \n",
        "        wb.save(filename_assignment)\n",
        "        "
      ],
      "execution_count": 0,
      "outputs": []
    },
    {
      "cell_type": "code",
      "metadata": {
        "id": "GJ5lXLqsUyKs",
        "colab_type": "code",
        "outputId": "6125ceb0-50fd-40f9-dbe3-551c79ce1bd8",
        "colab": {
          "base_uri": "https://localhost:8080/",
          "height": 34
        }
      },
      "source": [
        "#OutputResultsAssignment().output_excel_pandas(assigned)\n",
        "output = OutputResultsAssignment().output_excel(daily, assigned, total, output_file)"
      ],
      "execution_count": 24,
      "outputs": [
        {
          "output_type": "stream",
          "text": [
            "Output - Excel\n"
          ],
          "name": "stdout"
        }
      ]
    },
    {
      "cell_type": "markdown",
      "metadata": {
        "id": "LduqAf1AyvDv",
        "colab_type": "text"
      },
      "source": [
        "# Parte V - Analyse"
      ]
    },
    {
      "cell_type": "code",
      "metadata": {
        "id": "rU7sG1DfVAwx",
        "colab_type": "code",
        "outputId": "1ea154a8-f2bc-46fa-decc-628dd49635c4",
        "colab": {
          "base_uri": "https://localhost:8080/",
          "height": 384
        }
      },
      "source": [
        "import itertools\n",
        "\n",
        "week = [\"Lunedì\", \"Martedì\", \"Mercoledì\", \"Giovedì\", \"Venerdì\", \"Sabato\", \"Domenica\"]\n",
        "# Which patterns are choosed by each client\n",
        "for i, k in assigned.items():\n",
        "  print(f\"Client {i.client_name}, choosed the pattern: {k}\" \\\n",
        "        f\". It means that we will visit in the days: \" + \" - \".join([visits for visits in list(itertools.compress(week,k))]))"
      ],
      "execution_count": 26,
      "outputs": [
        {
          "output_type": "stream",
          "text": [
            "Client Ristorante CruftMan, choosed the pattern: [1, 0, 1, 0, 1, 0, 1]. It means that we will visit in the days: Lunedì - Mercoledì - Venerdì - Domenica\n",
            "Client Trattoria Motocicleta, choosed the pattern: [1, 0, 0, 1, 0, 0, 0]. It means that we will visit in the days: Lunedì - Giovedì\n",
            "Client Trattoria Durani, choosed the pattern: [1, 1, 1, 1, 1, 1, 1]. It means that we will visit in the days: Lunedì - Martedì - Mercoledì - Giovedì - Venerdì - Sabato - Domenica\n",
            "Client ToopService, choosed the pattern: [1, 0, 1, 0, 0, 1, 0]. It means that we will visit in the days: Lunedì - Mercoledì - Sabato\n",
            "Client Essecorta, choosed the pattern: [1, 1, 1, 1, 1, 1, 1]. It means that we will visit in the days: Lunedì - Martedì - Mercoledì - Giovedì - Venerdì - Sabato - Domenica\n",
            "Client Tutella, choosed the pattern: [1, 1, 1, 0, 1, 0, 1]. It means that we will visit in the days: Lunedì - Martedì - Mercoledì - Venerdì - Domenica\n",
            "Client Kebab I, choosed the pattern: [1, 1, 1, 1, 1, 1, 1]. It means that we will visit in the days: Lunedì - Martedì - Mercoledì - Giovedì - Venerdì - Sabato - Domenica\n",
            "Client Kebab II, choosed the pattern: [1, 1, 1, 1, 1, 1, 1]. It means that we will visit in the days: Lunedì - Martedì - Mercoledì - Giovedì - Venerdì - Sabato - Domenica\n",
            "Client Pizzeria L'angolo di Sardegna, choosed the pattern: [0, 1, 0, 1, 0, 0, 1]. It means that we will visit in the days: Martedì - Giovedì - Domenica\n",
            "Client Dipartimento di Ingegneria - UNIMORE, choosed the pattern: [0, 1, 0, 1, 0, 1, 0]. It means that we will visit in the days: Martedì - Giovedì - Sabato\n",
            "Client Ottica Vede Bene, choosed the pattern: [0, 0, 0, 0, 0, 1, 1]. It means that we will visit in the days: Sabato - Domenica\n",
            "Client LIDT, choosed the pattern: [1, 1, 1, 0, 1, 0, 1]. It means that we will visit in the days: Lunedì - Martedì - Mercoledì - Venerdì - Domenica\n",
            "Client Pizzeria PiediGrots V, choosed the pattern: [1, 0, 0, 1, 0, 0, 0]. It means that we will visit in the days: Lunedì - Giovedì\n",
            "Client Cremeria di Gelatti Buoni, choosed the pattern: [1, 1, 1, 1, 1, 0, 1]. It means that we will visit in the days: Lunedì - Martedì - Mercoledì - Giovedì - Venerdì - Domenica\n",
            "Client Uffici Via Sani, choosed the pattern: [0, 0, 0, 0, 1, 0, 0]. It means that we will visit in the days: Venerdì\n",
            "Client Banca UniDebit, choosed the pattern: [1, 1, 1, 1, 1, 1, 1]. It means that we will visit in the days: Lunedì - Martedì - Mercoledì - Giovedì - Venerdì - Sabato - Domenica\n",
            "Client Banca Specifico, choosed the pattern: [1, 0, 1, 1, 0, 0, 1]. It means that we will visit in the days: Lunedì - Mercoledì - Giovedì - Domenica\n",
            "Client MacDenalds, choosed the pattern: [1, 1, 1, 1, 1, 0, 1]. It means that we will visit in the days: Lunedì - Martedì - Mercoledì - Giovedì - Venerdì - Domenica\n",
            "Client BurgerQueen, choosed the pattern: [1, 1, 1, 1, 1, 1, 0]. It means that we will visit in the days: Lunedì - Martedì - Mercoledì - Giovedì - Venerdì - Sabato\n",
            "Client Hotel Tosta, choosed the pattern: [1, 1, 1, 1, 1, 0, 0]. It means that we will visit in the days: Lunedì - Martedì - Mercoledì - Giovedì - Venerdì\n"
          ],
          "name": "stdout"
        }
      ]
    },
    {
      "cell_type": "code",
      "metadata": {
        "id": "WkRToptZywpy",
        "colab_type": "code",
        "outputId": "2b5db6ec-593a-4a51-e0be-e1d59a68da3f",
        "colab": {
          "base_uri": "https://localhost:8080/",
          "height": 139
        }
      },
      "source": [
        "# Total work\n",
        "for i, k in enumerate(total):\n",
        "  print(f\"In {week[i]}, we have a total of {k} minutes of work.\")"
      ],
      "execution_count": 27,
      "outputs": [
        {
          "output_type": "stream",
          "text": [
            "In Lunedì, we have a total of 687 minutes of work.\n",
            "In Martedì, we have a total of 662 minutes of work.\n",
            "In Mercoledì, we have a total of 647 minutes of work.\n",
            "In Giovedì, we have a total of 677 minutes of work.\n",
            "In Venerdì, we have a total of 687 minutes of work.\n",
            "In Sabato, we have a total of 567 minutes of work.\n",
            "In Domenica, we have a total of 557 minutes of work.\n"
          ],
          "name": "stdout"
        }
      ]
    },
    {
      "cell_type": "code",
      "metadata": {
        "id": "r--VNxXu350g",
        "colab_type": "code",
        "outputId": "2a53e841-08d3-4915-b725-fdda8e957dbb",
        "colab": {
          "base_uri": "https://localhost:8080/",
          "height": 317
        }
      },
      "source": [
        "from matplotlib import pyplot as plt\n",
        "# Media e deviazione Tempo\n",
        "data = pd.Series(total)\n",
        "data.plot()\n",
        "print(f\"The mean value is {data.mean()}\")\n",
        "print(f\"The standard deviation is {data.std()}\")\n",
        "print(f\"The day that we work more is {data.max()}, and the less {data.min()}\")"
      ],
      "execution_count": 0,
      "outputs": [
        {
          "output_type": "stream",
          "text": [
            "The mean value is 640.5714285714286\n",
            "The standard deviation is 55.581343221315855\n",
            "The day that we work more is 687, and the less 557\n"
          ],
          "name": "stdout"
        },
        {
          "output_type": "display_data",
          "data": {
            "image/png": "[encoded data removed]",
            "text/plain": [
              "<Figure size 432x288 with 1 Axes>"
            ]
          },
          "metadata": {
            "tags": [],
            "needs_background": "light"
          }
        }
      ]
    },
    {
      "cell_type": "code",
      "metadata": {
        "id": "VrwmV2hB4MUG",
        "colab_type": "code",
        "outputId": "184e4e19-0c1f-4810-95f7-eb8b4abf52eb",
        "colab": {
          "base_uri": "https://localhost:8080/",
          "height": 317
        }
      },
      "source": [
        "# Media e deviazione number of clients\n",
        "data = pd.Series([len(k) for i,k in daily.items()])\n",
        "data.plot()\n",
        "print(f\"The mean value is {int(data.mean())}\")\n",
        "print(f\"The standard deviation is {int(data.std())}\")\n",
        "print(f\"The day that we work more is {data.max()}, and the less {data.min()}\")"
      ],
      "execution_count": 0,
      "outputs": [
        {
          "output_type": "stream",
          "text": [
            "The mean value is 13\n",
            "The standard deviation is 2\n",
            "The day that we work more is 16, and the less 9\n"
          ],
          "name": "stdout"
        },
        {
          "output_type": "display_data",
          "data": {
            "image/png": "[encoded data removed]",
            "text/plain": [
              "<Figure size 432x288 with 1 Axes>"
            ]
          },
          "metadata": {
            "tags": [],
            "needs_background": "light"
          }
        }
      ]
    },
    {
      "cell_type": "code",
      "metadata": {
        "id": "5LclZeSo5eXd",
        "colab_type": "code",
        "outputId": "4715d722-240d-43e0-c6a7-8dda7279cb98",
        "colab": {
          "base_uri": "https://localhost:8080/",
          "height": 300
        }
      },
      "source": [
        "# The patterns\n",
        "data = pd.Series(patterns)\n",
        "data.plot()\n",
        "print(f\"The most choosed pattern have {data.max()} times, and the less {data.min()} times.\")\n",
        "print(f\"And the pattern most choosed pattern is {data.argmax()}!\")\n"
      ],
      "execution_count": 0,
      "outputs": [
        {
          "output_type": "stream",
          "text": [
            "The most choosed pattern have 5 times, and the less 0 times.\n",
            "And the pattern most choosed pattern is 43!\n"
          ],
          "name": "stdout"
        },
        {
          "output_type": "display_data",
          "data": {
            "image/png": "[encoded data removed]",
            "text/plain": [
              "<Figure size 432x288 with 1 Axes>"
            ]
          },
          "metadata": {
            "tags": [],
            "needs_background": "light"
          }
        }
      ]
    },
    {
      "cell_type": "code",
      "metadata": {
        "id": "QU8lxi456gLb",
        "colab_type": "code",
        "outputId": "4c3e5f5a-8276-4c62-e83c-4575a40fcace",
        "colab": {
          "base_uri": "https://localhost:8080/",
          "height": 156
        }
      },
      "source": [
        "# Week work time\n",
        "hour_cost = 10\n",
        "daily_costs = []\n",
        "for day, time in enumerate(total):\n",
        "  cost = round(time/hour_cost,2)\n",
        "  print(f\"In {week[day]}, We will pay {cost}\")\n",
        "  daily_costs.append(cost)\n",
        "  \n",
        "print(f\"Each week costs {sum([c for c in daily_costs])}\")"
      ],
      "execution_count": 0,
      "outputs": [
        {
          "output_type": "stream",
          "text": [
            "In Lunedì, We will pay 68.7\n",
            "In Martedì, We will pay 66.2\n",
            "In Mercoledì, We will pay 64.7\n",
            "In Giovedì, We will pay 67.7\n",
            "In Venerdì, We will pay 68.7\n",
            "In Sabato, We will pay 56.7\n",
            "In Domenica, We will pay 55.7\n",
            "Each week costs 448.4\n"
          ],
          "name": "stdout"
        }
      ]
    },
    {
      "cell_type": "code",
      "metadata": {
        "id": "Dliuz3D68iW3",
        "colab_type": "code",
        "outputId": "f54a45de-624e-44f2-b95c-6e931bf196b4",
        "colab": {
          "base_uri": "https://localhost:8080/",
          "height": 278
        }
      },
      "source": [
        "!pip install flask-ngrok"
      ],
      "execution_count": 28,
      "outputs": [
        {
          "output_type": "stream",
          "text": [
            "Collecting flask-ngrok\n",
            "  Downloading https://files.pythonhosted.org/packages/af/6c/f54cb686ad1129e27d125d182f90f52b32f284e6c8df58c1bae54fa1adbc/flask_ngrok-0.0.25-py3-none-any.whl\n",
            "Requirement already satisfied: requests in /usr/local/lib/python3.6/dist-packages (from flask-ngrok) (2.21.0)\n",
            "Requirement already satisfied: Flask>=0.8 in /usr/local/lib/python3.6/dist-packages (from flask-ngrok) (1.1.2)\n",
            "Requirement already satisfied: chardet<3.1.0,>=3.0.2 in /usr/local/lib/python3.6/dist-packages (from requests->flask-ngrok) (3.0.4)\n",
            "Requirement already satisfied: urllib3<1.25,>=1.21.1 in /usr/local/lib/python3.6/dist-packages (from requests->flask-ngrok) (1.24.3)\n",
            "Requirement already satisfied: certifi>=2017.4.17 in /usr/local/lib/python3.6/dist-packages (from requests->flask-ngrok) (2020.4.5.1)\n",
            "Requirement already satisfied: idna<2.9,>=2.5 in /usr/local/lib/python3.6/dist-packages (from requests->flask-ngrok) (2.8)\n",
            "Requirement already satisfied: itsdangerous>=0.24 in /usr/local/lib/python3.6/dist-packages (from Flask>=0.8->flask-ngrok) (1.1.0)\n",
            "Requirement already satisfied: Jinja2>=2.10.1 in /usr/local/lib/python3.6/dist-packages (from Flask>=0.8->flask-ngrok) (2.11.2)\n",
            "Requirement already satisfied: click>=5.1 in /usr/local/lib/python3.6/dist-packages (from Flask>=0.8->flask-ngrok) (7.1.1)\n",
            "Requirement already satisfied: Werkzeug>=0.15 in /usr/local/lib/python3.6/dist-packages (from Flask>=0.8->flask-ngrok) (1.0.1)\n",
            "Requirement already satisfied: MarkupSafe>=0.23 in /usr/local/lib/python3.6/dist-packages (from Jinja2>=2.10.1->Flask>=0.8->flask-ngrok) (1.1.1)\n",
            "Installing collected packages: flask-ngrok\n",
            "Successfully installed flask-ngrok-0.0.25\n"
          ],
          "name": "stdout"
        }
      ]
    },
    {
      "cell_type": "code",
      "metadata": {
        "id": "dmnqG6njLt-e",
        "colab_type": "code",
        "outputId": "a164c9ee-36b5-46b9-f53f-7e9ae9407587",
        "colab": {
          "base_uri": "https://localhost:8080/",
          "height": 208
        }
      },
      "source": [
        "from flask_ngrok import run_with_ngrok\n",
        "from flask import Flask\n",
        "app = Flask(__name__)\n",
        "run_with_ngrok(app)   #starts ngrok when the app is run@app.route(\"/\")\n",
        "@app.route(\"/\")\n",
        "def home():\n",
        "    return \"<h1>Running Flask on Google Colab!</h1>\"\n",
        "  \n",
        "app.run()"
      ],
      "execution_count": 29,
      "outputs": [
        {
          "output_type": "stream",
          "text": [
            " * Serving Flask app \"__main__\" (lazy loading)\n",
            " * Environment: production\n",
            "\u001b[31m   WARNING: This is a development server. Do not use it in a production deployment.\u001b[0m\n",
            "\u001b[2m   Use a production WSGI server instead.\u001b[0m\n",
            " * Debug mode: off\n"
          ],
          "name": "stdout"
        },
        {
          "output_type": "stream",
          "text": [
            " * Running on http://127.0.0.1:5000/ (Press CTRL+C to quit)\n"
          ],
          "name": "stderr"
        },
        {
          "output_type": "stream",
          "text": [
            " * Running on http://6785802b.ngrok.io\n",
            " * Traffic stats available on http://127.0.0.1:4040\n"
          ],
          "name": "stdout"
        },
        {
          "output_type": "stream",
          "text": [
            "127.0.0.1 - - [29/Apr/2020 15:37:04] \"\u001b[37mGET / HTTP/1.1\u001b[0m\" 200 -\n",
            "127.0.0.1 - - [29/Apr/2020 15:37:05] \"\u001b[33mGET /favicon.ico HTTP/1.1\u001b[0m\" 404 -\n",
            "127.0.0.1 - - [29/Apr/2020 15:37:05] \"\u001b[33mGET /favicon.ico HTTP/1.1\u001b[0m\" 404 -\n"
          ],
          "name": "stderr"
        }
      ]
    },
    {
      "cell_type": "markdown",
      "metadata": {
        "id": "kRXiV6YyjrH0",
        "colab_type": "text"
      },
      "source": [
        ""
      ]
    }
  ]
}