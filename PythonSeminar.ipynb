{
  "nbformat": 4,
  "nbformat_minor": 0,
  "metadata": {
    "colab": {
      "name": "PythonSeminar.ipynb",
      "provenance": [],
      "collapsed_sections": [
        "uAE6XVeHN8WP",
        "4C7I-SbyBzUq",
        "GYhrL6HTC2ys",
        "u6oqMli6F-Y6",
        "aJMCabm-Ul76",
        "LduqAf1AyvDv"
      ],
      "toc_visible": true,
      "include_colab_link": true
    },
    "kernelspec": {
      "name": "python3",
      "display_name": "Python 3"
    }
  },
  "cells": [
    {
      "cell_type": "markdown",
      "metadata": {
        "id": "view-in-github",
        "colab_type": "text"
      },
      "source": [
        "<a href=\"https://colab.research.google.com/github/NicolasCampana/python-seminar/blob/master/PythonSeminar.ipynb\" target=\"_parent\"><img src=\"https://colab.research.google.com/assets/colab-badge.svg\" alt=\"Open In Colab\"/></a>"
      ]
    },
    {
      "cell_type": "markdown",
      "metadata": {
        "id": "xWvzOwbxjwwX",
        "colab_type": "text"
      },
      "source": [
        "\n",
        "# Welcome to this Notebook!\n",
        "# This notebook was created to support a python seminar in May of 2020. \n",
        "# University of Modena and Reggio Emilia\n",
        "# Nícolas Porto Campana \n",
        "\n",
        "\n"
      ]
    },
    {
      "cell_type": "markdown",
      "metadata": {
        "id": "uAE6XVeHN8WP",
        "colab_type": "text"
      },
      "source": [
        "# Part 0 - Basics and Python\n",
        "\n",
        "---\n",
        "\n"
      ]
    },
    {
      "cell_type": "code",
      "metadata": {
        "id": "vGCKPpMAN03-",
        "colab_type": "code",
        "colab": {}
      },
      "source": [
        "# Basics\n",
        "# Variables do not need to have a type\n",
        "# Python interprets it\n",
        "test = \"T\"\n",
        "print(test)\n",
        "test = 1\n",
        "print(test)\n",
        "\n",
        "# The if works the same way, but becareful with the tabulation! (And with the \":\")\n",
        "# Like C++, we can use the words \"and\"/\"or\" as keywords for &&/||\n",
        "if(test == \"T\"):\n",
        "  print(\"It's equal to T!\")\n",
        "else:\n",
        "  print(\"Sorry, it's not equal.\")\n"
      ],
      "execution_count": 0,
      "outputs": []
    },
    {
      "cell_type": "code",
      "metadata": {
        "id": "bzHR9wuaSq0M",
        "colab_type": "code",
        "colab": {}
      },
      "source": [
        "!pip install pulp\n",
        "import requests \n",
        "import pprint\n",
        "import itertools\n",
        "import numpy as np\n",
        "import pickle as pk\n",
        "import pandas as pd\n",
        "import openpyxl as pyxl\n",
        "from bs4 import BeautifulSoup\n",
        "from matplotlib import pyplot as plt\n",
        "from pulp import *"
      ],
      "execution_count": 0,
      "outputs": []
    },
    {
      "cell_type": "code",
      "metadata": {
        "id": "OGFn5gSkQCJu",
        "colab_type": "code",
        "colab": {}
      },
      "source": [
        "# Lists and loops\n",
        "x = [3, 1, 2 , 4]\n",
        "\n",
        "print(\"Printing the range\")\n",
        "for i in range(len(x)):\n",
        "  print(i)\n",
        "\n",
        "print (\"\\nBut you can also use as a 'copy value'\")\n",
        "for i in x:\n",
        "  print(i)\n",
        "\n",
        "print (\"\\nIf you need the index and the value, we can use enumerate:\")\n",
        "for i, v in enumerate(x):\n",
        "  print(f\"Value {v} is in the position {i}!\")\n",
        "\n",
        "print (\"\\nOther very crazy thing is: python lists can hold different object types:\")\n",
        "x = [\"Hi\", 1, True, 3]\n",
        "\n",
        "# The interpreter \"transforms\" the variable s to the type that is needed.\n",
        "for s in x:\n",
        "  print(s)\n",
        "\n",
        "# List comprehension\n",
        "crazy_list = [num for num in range(20)]\n",
        "print(crazy_list)\n",
        "\n",
        "# Transform in a list!\n",
        "crazy_list = list(range(20))\n",
        "print(crazy_list)\n",
        "\n",
        "\n",
        "# Using the len key word\n",
        "indexes = list(range(len(x)))\n",
        "print(indexes)\n",
        "\n",
        "# Code Minute\n",
        "# How to access the last element of the list?"
      ],
      "execution_count": 0,
      "outputs": []
    },
    {
      "cell_type": "code",
      "metadata": {
        "id": "x4KcD50Oei5z",
        "colab_type": "code",
        "colab": {}
      },
      "source": [
        "# You can also play with the list, cutting it\n",
        "print (crazy_list[2:])\n",
        "\n",
        "# Code minute\n",
        "# How to select a interval?\n"
      ],
      "execution_count": 0,
      "outputs": []
    },
    {
      "cell_type": "code",
      "metadata": {
        "id": "02lfgf3oYZjV",
        "colab_type": "code",
        "colab": {}
      },
      "source": [
        "# Dictionaries\n",
        "# Very useful! Data access in O(1)!\n",
        "test = {}\n",
        "test['FIM'] = 10\n",
        "\n",
        "print(test)\n",
        "# Testing a Key\n",
        "if (\"DISMI\" not in test):\n",
        "  print(\"There is no DISMI in UNIMORE!\")\n",
        "  test['DISMI'] = 11\n",
        "else:\n",
        "  print(\"Okay, there is DISMI!\")\n",
        "print(test)\n",
        "\n",
        "# Code Minute!\n",
        "# And if we want to know if there is a value (not a key!) in the dict?\n",
        "\n",
        "# But its possible iterating over the key and values:\n",
        "for key, value in test.items():\n",
        "  print(f\"Key: {key}. Value: {value}\")\n"
      ],
      "execution_count": 0,
      "outputs": []
    },
    {
      "cell_type": "markdown",
      "metadata": {
        "id": "4C7I-SbyBzUq",
        "colab_type": "text"
      },
      "source": [
        "# Part I - Web Scraping\n",
        "\n",
        "\n",
        "---\n",
        "\n",
        "\n",
        "\n",
        "\n"
      ]
    },
    {
      "cell_type": "code",
      "metadata": {
        "id": "HQOrIn7IG51U",
        "colab_type": "code",
        "colab": {}
      },
      "source": [
        "class WebScraping(object):\n",
        "  def __init__(self, url):\n",
        "    self._url = url\n",
        "\n",
        "  def request(self):\n",
        "    # Code Minute!\n",
        "    print(\"we need to do the request! But how?\")    \n",
        "\n",
        "  def execute_scraping(self) -> list:\n",
        "    clients = {}\n",
        "    clients_class = []\n",
        "    response = self.request()\n",
        "    \n",
        "    if(response.status_code != 404):\n",
        "      soup = BeautifulSoup(response.content, \"html.parser\") # Parser html \n",
        "      #print(soup.prettify()) # show the page in html\n",
        "      table = soup.find('table') # Search the table in the page\n",
        "      rows = table.find_all('tr') # get all the tr elements\n",
        "      for idx, row in enumerate(rows[1:]): # jump the first (Header) line in the for\n",
        "        client_raw = row.find_all('td') # get all the td (elements) of a row\n",
        "        client_data = [e.get_text() for e in client_raw] # List comprehesion to get all the data\n",
        "        print(client_data)\n",
        "        #result = \" - \".join(client_data) # join a separator\n",
        "        #print(f\"Client {idx}: {result}\")\n",
        "        clients[idx] = client_data\n",
        "        clients_class.append(Client(*list(client_data))) # Unpack and create the clients objects\n",
        "      # Code Minute!\n",
        "      # how to print the name of the website?\n",
        "      title = \"\"\n",
        "      print(title)\n",
        "    return clients_class\n",
        "      \n"
      ],
      "execution_count": 0,
      "outputs": []
    },
    {
      "cell_type": "code",
      "metadata": {
        "id": "z1eQIyhuByJF",
        "colab_type": "code",
        "colab": {}
      },
      "source": [
        "class Client(object):\n",
        "  def __init__(self,name = \"\", time = 0, frequency = 0):\n",
        "    # Code Minute!\n",
        "    # And if I wanna put a id in the class?\n",
        "    self._client_name = name\n",
        "    self._time_to_clean = int(time)\n",
        "    self._frequency = frequency\n",
        "\n",
        "  def __repr__(self):\n",
        "    return f\"Client: {self._client_name}. Time to Clean: {self._time_to_clean}. Week Frequency: {self._frequency}\""
      ],
      "execution_count": 0,
      "outputs": []
    },
    {
      "cell_type": "code",
      "metadata": {
        "id": "6UNwNruTBtfb",
        "colab_type": "code",
        "colab": {}
      },
      "source": [
        "url = \"https://nicolascampana.github.io/python-seminar/\"\n",
        "wb = WebScraping(url)\n",
        "\n",
        "clients = wb.execute_scraping()\n",
        "\n",
        "for c in clients:\n",
        "  print(c)"
      ],
      "execution_count": 0,
      "outputs": []
    },
    {
      "cell_type": "code",
      "metadata": {
        "id": "AdwBsfzeWkMW",
        "colab_type": "code",
        "colab": {}
      },
      "source": [
        "# And if we would want to sort the clients?\n",
        "print(\"Sorted clients:\")\n",
        "new_clients = sorted(clients, key=lambda c: c._time_to_clean)\n",
        "for c in new_clients:\n",
        "  print(c)\n",
        "\n",
        "# Code Minute\n",
        "# But and if we sort in descending order of frequency?"
      ],
      "execution_count": 0,
      "outputs": []
    },
    {
      "cell_type": "markdown",
      "metadata": {
        "id": "GYhrL6HTC2ys",
        "colab_type": "text"
      },
      "source": [
        "# Part II - File Excel\n",
        "\n",
        "---\n"
      ]
    },
    {
      "cell_type": "code",
      "metadata": {
        "id": "R2MmtNl4ERk0",
        "colab_type": "code",
        "colab": {}
      },
      "source": [
        "#!wget https://github.com/NicolasCampana/python-seminar/raw/master/patterns.xlsx\n",
        "\n",
        "def read_patterns(file:str):\n",
        "  file = pd.read_excel(file)\n",
        "  #print(file.head()) # Show some rows of the dataframe\n",
        "  #print(file[\"Mon\"].iloc[2:6])\n",
        "  #print(file.iloc[0:5, 5:8])\n",
        "  #print(file.loc[1]) # row\n",
        "  matrix = file.to_numpy() # Transforms in a matrix of numpy\n",
        "  #print (matrix)\n",
        "  Q = {str(i):{} for i in file[\"Frequency\"]}\n",
        "  for pattern in matrix: # get each vector of the matrix\n",
        "    frequency = str(pattern[0]) # get the frequency\n",
        "    p_type = pattern[1] # get the type\n",
        "    Q[frequency][p_type] = list(pattern[2:]) # get the real pattern \n",
        "  \n",
        "  return Q\n"
      ],
      "execution_count": 0,
      "outputs": []
    },
    {
      "cell_type": "code",
      "metadata": {
        "id": "8TgD1lNOC4nc",
        "colab_type": "code",
        "colab": {}
      },
      "source": [
        "pat = read_patterns(\"patterns.xlsx\")\n",
        "#print(pat)\n",
        "#pprint.pprint(pat)"
      ],
      "execution_count": 0,
      "outputs": []
    },
    {
      "cell_type": "markdown",
      "metadata": {
        "id": "u6oqMli6F-Y6",
        "colab_type": "text"
      },
      "source": [
        "# Part III - Assignment Model\n",
        "\n",
        "---\n"
      ]
    },
    {
      "cell_type": "code",
      "metadata": {
        "id": "kxi-xVxQF-B4",
        "colab_type": "code",
        "colab": {}
      },
      "source": [
        "# Using Pulp!\n",
        "\n",
        "class SolverAssignment:    \n",
        "    def __init__(self, clients:list):\n",
        "        self._clients = clients\n",
        "        self._D = list(range(7))\n",
        "        print(\"Starting the assignment for the clients: \")\n",
        "        #for c in self._clients:\n",
        "        #  print(c)\n",
        "    \n",
        "    def get_client_patterns(self, patterns: dict):\n",
        "        client_patterns = {}        \n",
        "        for _, i in patterns.items():\n",
        "            for idx, pat in i.items():\n",
        "                client_patterns[idx] = pat \n",
        "        return client_patterns\n",
        "\n",
        "    def solve_model(self, patterns:dict) -> dict:\n",
        "        #Assignment Model - Pulp # https://coin-or.github.io/pulp/\n",
        "        client_patterns = self.get_client_patterns(patterns)\n",
        "        model = LpProblem(\"Assignment Problem - Pulizia\", LpMinimize)\n",
        "        x = LpVariable.dicts(\"X\", [(c, p) for c in self._clients \n",
        "                                          for p in client_patterns], \n",
        "                             0, None, LpBinary)\n",
        "        #x = LpVariable.dicts(\"X\", (self.clients, client_patterns), 0, None, LpBinary)\n",
        "        z = LpVariable(\"Z\", 0, None, LpInteger)\n",
        "        beta = [0, 0,  0, 0, 0, 120, 120]\n",
        "        model += z, \"Minimize Total balance\"\n",
        "        \n",
        "        #print(x.keys())\n",
        "        for c in self._clients:\n",
        "          model += lpSum([x[(c,p)] for p in patterns[c._frequency].keys()]) == 1\n",
        "        \n",
        "        for d in self._D:\n",
        "          model += beta[d] + lpSum([lpSum([client_patterns[p][d] * x[(c,p)] * c._time_to_clean for c in self._clients]) for p in client_patterns.keys()]) <= z\n",
        "\n",
        "        model.solve()\n",
        "\n",
        "        total = [0] * len(self._D) # Total assigned work in the days\n",
        "        daily_demand = {i: [] for i in self._D} # daily assigned clients \n",
        "        assigned = {} # pattern choosed for each client\n",
        "        patterns_choosed = [0] * (len(client_patterns)+1) # amount of times that we choose this pattern\n",
        "        for c in self._clients:\n",
        "            for p in client_patterns:\n",
        "                if(x[(c,p)].value() > 0.6): # If the binary variable got on\n",
        "                    assigned[c] = client_patterns[p]\n",
        "                    patterns_choosed[p] += 1\n",
        "                    for d, value in enumerate(patterns[c._frequency][p]):\n",
        "                        if(value == 1):\n",
        "                            daily_demand[d].append(pk.loads(pk.dumps(c))) # Copy the object using pickle\n",
        "                            total[d] += c._time_to_clean \n",
        "        return daily_demand, total, assigned, patterns_choosed\n"
      ],
      "execution_count": 0,
      "outputs": []
    },
    {
      "cell_type": "code",
      "metadata": {
        "id": "8bU0sgKtGDJJ",
        "colab_type": "code",
        "colab": {}
      },
      "source": [
        "\n",
        "patterns_raw = read_patterns(\"patterns.xlsx\")\n",
        "#print(patterns)\n",
        "#clients_class\n",
        "\n",
        "t = SolverAssignment(clients)\n",
        "daily, total, assigned, patterns = t.solve_model(patterns_raw)\n",
        "#pprint.pprint(patterns)"
      ],
      "execution_count": 0,
      "outputs": []
    },
    {
      "cell_type": "markdown",
      "metadata": {
        "id": "aJMCabm-Ul76",
        "colab_type": "text"
      },
      "source": [
        "# Part IV - Ouput\n",
        "\n",
        "---"
      ]
    },
    {
      "cell_type": "code",
      "metadata": {
        "id": "iQVwNhGCMfsN",
        "colab_type": "code",
        "colab": {}
      },
      "source": [
        "class OutputResultsAssignment:\n",
        "  def output_excel(self, daily_assignment:dict, assigned:dict, total:list, filename_assignment:str):\n",
        "        print(\"Output - Excel\")\n",
        "        wb = pyxl.Workbook()\n",
        "        ws1 = wb.active\n",
        "        ws1.title = \"Week Distributon\"\n",
        "        ws1.append([\"Days\"] + [v for v in total])\n",
        "        ws1.append([\"Room\", \"Mon\",\"Tue\",\"Wed\",\"Thu\",\"Fri\",\"Sat\", \"Sun\"])\n",
        "       \n",
        "        j = 3\n",
        "        for i, k in assigned.items(): \n",
        "            ws1.cell(j, 1, f\"{i._client_name}\")\n",
        "            for idx, day in enumerate(k):\n",
        "                ws1.cell(j, idx+2, day)\n",
        "            j += 1\n",
        "        # Code Minute\n",
        "        # How to do it using append?\n",
        "        wb.save(filename_assignment)\n",
        "        "
      ],
      "execution_count": 0,
      "outputs": []
    },
    {
      "cell_type": "code",
      "metadata": {
        "id": "GJ5lXLqsUyKs",
        "colab_type": "code",
        "colab": {}
      },
      "source": [
        "output_file = \"OutputClients.xlsx\"\n",
        "OutputResultsAssignment().output_excel(daily, assigned, total, output_file)"
      ],
      "execution_count": 0,
      "outputs": []
    },
    {
      "cell_type": "markdown",
      "metadata": {
        "id": "LduqAf1AyvDv",
        "colab_type": "text"
      },
      "source": [
        "# Part V - Analyse\n",
        "---"
      ]
    },
    {
      "cell_type": "code",
      "metadata": {
        "id": "rU7sG1DfVAwx",
        "colab_type": "code",
        "colab": {}
      },
      "source": [
        "file = pd.read_excel(output_file, skiprows=1)\n",
        "\n",
        "days = list(file.keys()[1:])\n",
        "print (days)\n",
        "\n",
        "# Which patterns are choosed by each client\n",
        "for i, k in assigned.items():\n",
        "  all_visits = [visits for visits in list(itertools.compress(days,k))]\n",
        "  print(f\"Client {i._client_name}, choosed the pattern: {k}\")\n",
        "  print(f\"It means that we will visit in the days: \" + \" - \".join(all_visits))"
      ],
      "execution_count": 0,
      "outputs": []
    },
    {
      "cell_type": "code",
      "metadata": {
        "id": "WkRToptZywpy",
        "colab_type": "code",
        "colab": {}
      },
      "source": [
        "# Total work\n",
        "for i, k in enumerate(total):\n",
        "  print(f\"In {days[i]}, we have a total of {k} minutes of work.\")\n",
        "\n",
        "# Code Minute\n",
        "# And if we want to know the sum of all work?"
      ],
      "execution_count": 0,
      "outputs": []
    },
    {
      "cell_type": "code",
      "metadata": {
        "id": "r--VNxXu350g",
        "colab_type": "code",
        "colab": {}
      },
      "source": [
        "# See seaborn\n",
        "# See plotly\n",
        "# The total amount of work in time\n",
        "data = pd.Series(total) # Transforms in a serie variable\n",
        "data.plot()\n",
        "print(f\"The mean time for each day is {data.mean()}\")\n",
        "print(f\"The standard deviation is {data.std()}\")\n",
        "print(f\"The day that we work more is {data.max()}, and the less {data.min()}\")"
      ],
      "execution_count": 0,
      "outputs": []
    },
    {
      "cell_type": "code",
      "metadata": {
        "id": "VrwmV2hB4MUG",
        "colab_type": "code",
        "colab": {}
      },
      "source": [
        "# The total amount of clients for each day\n",
        "data = pd.Series([len(k) for _, k in daily.items()])\n",
        "#print(data.describe())\n",
        "data.plot()\n",
        "print(f\"The mean value is {int(data.mean())}\")\n",
        "print(f\"The standard deviation is {int(data.std())}\")\n",
        "print(f\"The day that we work more is {data.max()}, and the less {data.min()}\")"
      ],
      "execution_count": 0,
      "outputs": []
    },
    {
      "cell_type": "code",
      "metadata": {
        "id": "5LclZeSo5eXd",
        "colab_type": "code",
        "colab": {}
      },
      "source": [
        "# The frequency of patterns\n",
        "data = pd.Series(patterns)\n",
        "data.plot()\n",
        "print(f\"The most choosed pattern have {data.max()} times, and the less {data.min()} times.\")\n",
        "print(f\"And the pattern most choosed pattern is {data.argmax()}!\")\n"
      ],
      "execution_count": 0,
      "outputs": []
    },
    {
      "cell_type": "code",
      "metadata": {
        "id": "QU8lxi456gLb",
        "colab_type": "code",
        "colab": {}
      },
      "source": [
        "# How to calculate the last demand from the company?\n",
        "# How much would it cost for the company?\n",
        "hour_cost = 10.0"
      ],
      "execution_count": 0,
      "outputs": []
    }
  ]
}